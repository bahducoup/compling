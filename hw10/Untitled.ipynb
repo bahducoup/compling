{
 "cells": [
  {
   "cell_type": "code",
   "execution_count": 1,
   "metadata": {},
   "outputs": [
    {
     "data": {
      "text/plain": [
       "<Figure size 640x480 with 1 Axes>"
      ]
     },
     "metadata": {},
     "output_type": "display_data"
    },
    {
     "data": {
      "text/plain": [
       "13"
      ]
     },
     "execution_count": 1,
     "metadata": {},
     "output_type": "execute_result"
    }
   ],
   "source": [
    "# -*- coding: utf-8 -*-\n",
    "# title: statistics.py\n",
    "# course: Language and Computer\n",
    "# author(s): Suzi Park\n",
    "# date created: 2018-11-02\n",
    "# description: basic statistics (with SciPy)\n",
    "\n",
    "# Original code: ch05_statistics.py (without SciPy)\n",
    "# https://github.com/insightbook/Data-Science-from-Scratch/blob/master/code/ch05_statistics.py\n",
    "\n",
    "import matplotlib.pyplot as plt # 그림 그리기\n",
    "from collections import Counter # 빈도 세기\n",
    "\n",
    "import numpy as np\n",
    "import scipy\n",
    "import scipy.stats\n",
    "\n",
    "import pprint as pprint\n",
    "\n",
    "# 5.1 데이터셋 설명하기 -- 한 종류의 데이터\n",
    "\n",
    "# 데이터\n",
    "num_friends = [100,49,41,40,25,21,21,19,19,18,18,16,15,15,15,15,14,14,13,13,13,13,12,12,11,10,10,10,10,10,10,10,10,10,10,10,10,10,10,10,9,9,9,9,9,9,9,9,9,9,9,9,9,9,9,9,9,9,8,8,8,8,8,8,8,8,8,8,8,8,8,7,7,7,7,7,7,7,7,7,7,7,7,7,7,7,6,6,6,6,6,6,6,6,6,6,6,6,6,6,6,6,6,6,6,6,6,6,5,5,5,5,5,5,5,5,5,5,5,5,5,5,5,5,5,4,4,4,4,4,4,4,4,4,4,4,4,4,4,4,4,4,4,4,4,3,3,3,3,3,3,3,3,3,3,3,3,3,3,3,3,3,3,3,3,2,2,2,2,2,2,2,2,2,2,2,2,2,2,2,2,2,1,1,1,1,1,1,1,1,1,1,1,1,1,1,1,1,1,1,1,1,1,1]\n",
    "\n",
    "# 히스토그램\n",
    "friend_counts = Counter(num_friends) # 빈도표\n",
    "# friend_counts[17] # no KeyError\n",
    "plt.bar(friend_counts.keys(), friend_counts.values()) # 막대그래프\n",
    "plt.show()\n",
    "\n",
    "# 통계치\n",
    "num_points = len(num_friends)\n",
    "largest_value = max(num_friends)\n",
    "smallest_value = min(num_friends)\n",
    "\n",
    "# 5.1.1 중심 경향성(central tendency)\n",
    "# 통계치: 평균, 중위수, 최빈값\n",
    "# (1) 평균(mean)\n",
    "def mean(x):\n",
    "    return sum(x) / len(x)\n",
    "\n",
    "mean(num_friends)\n",
    "# scipy.mean(num_friends)\n",
    "\n",
    "# (2) 중위수(median)\n",
    "def median(v):\n",
    "    \"\"\"finds the 'middle-most' value of v\"\"\"\n",
    "    n = len(v)\n",
    "    midpoint = n // 2\n",
    "    sorted_v = sorted(v)\n",
    "    if n % 2 == 1:\n",
    "        # if odd, return the middle value\n",
    "        return sorted_v[midpoint]\n",
    "    else:\n",
    "        # if even, return the average of the middle values\n",
    "        return mean(sorted_v[midpoint-1:midpoint+1])\n",
    "\n",
    "median(num_friends)\n",
    "# scipy.median(num_friends)\n",
    "\n",
    "# (3) 최빈값(mode)\n",
    "def mode(x):\n",
    "    \"\"\"returns a list, might be more than one mode\"\"\"\n",
    "    counts = Counter(x)\n",
    "    max_count = max(counts.values())\n",
    "    return [x_i for x_i, count in counts.items() if count == max_count]\n",
    "\n",
    "mode(num_friends)\n",
    "# scipy.stats.mode(num_friends)\n",
    "\n",
    "# 분위\n",
    "def quantile(x, p):\n",
    "    \"\"\"returns the pth-percentile value in x\"\"\"\n",
    "    p_index = int(p * len(x))\n",
    "    return sorted(x)[p_index]\n",
    "\n",
    "quantile(num_friends, 0.10)\n",
    "quantile(num_friends, 0.25)\n",
    "quantile(num_friends, 0.75)\n",
    "quantile(num_friends, 0.90)\n",
    "# scipy.quantile(num_friends, 0.10)\n",
    "# scipy.quantile(num_friends, 0.25)\n",
    "# scipy.quantile(num_friends, 0.75)\n",
    "# scipy.quantile(num_friends, 0.90)\n",
    "\n"
   ]
  },
  {
   "cell_type": "code",
   "execution_count": 11,
   "metadata": {},
   "outputs": [],
   "source": [
    "# 5.1.2 산포도(dispersion) \"퍼짐 경향성\"\n",
    "# 통계치: 범위, 분산, 표준편차\n",
    "# (1) 범위\n",
    "# \"range\" already means something in Python, so we'll use a different name\n",
    "def data_range(x):\n",
    "    return max(x) - min(x)\n",
    "\n",
    "data_range(num_friends)\n",
    "# np.ptp(num_friends)\n",
    "\n",
    "\n",
    "# (2) 분산, 표준편차\n",
    "def de_mean(x):\n",
    "    \"\"\"translate x by subtracting its mean (so the result has mean 0)\"\"\"\n",
    "    x_bar = mean(x)\n",
    "    return [x_i - x_bar for x_i in x]\n",
    "\n",
    "de_mean(num_friends)\n",
    "np.array(num_friends) - np.mean(num_friends)\n",
    "\n",
    "from vectors import sum_of_squares\n",
    "def variance(x):\n",
    "    \"\"\"assumes x has at least two elements\"\"\"\n",
    "    n = len(x)\n",
    "    deviations = de_mean(x)\n",
    "    return sum_of_squares(deviations) / (n - 1)\n",
    "\n",
    "variance(num_friends)\n",
    "scipy.var(num_friends, ddof=1)\n",
    "\n",
    "def println():\n",
    "    print('=======================================================')"
   ]
  },
  {
   "cell_type": "code",
   "execution_count": 12,
   "metadata": {},
   "outputs": [
    {
     "name": "stdout",
     "output_type": "stream",
     "text": [
      "CUSTOM\n",
      "9.03014473623248\n",
      "<class 'float'>\n",
      "=======================================================\n",
      "SCIPY\n",
      "9.030144736232474\n",
      "<class 'numpy.float64'>\n"
     ]
    }
   ],
   "source": [
    "\n",
    "def standard_deviation(x):\n",
    "    return variance(x) ** (1/2)\n",
    "\n",
    "x = standard_deviation(num_friends)\n",
    "y = scipy.std(num_friends, ddof=1)\n",
    "\n",
    "print('CUSTOM')\n",
    "print(x)\n",
    "print(type(x))\n",
    "println()\n",
    "print('SCIPY')\n",
    "print(y)\n",
    "print(type(y))"
   ]
  },
  {
   "cell_type": "code",
   "execution_count": 14,
   "metadata": {},
   "outputs": [
    {
     "name": "stdout",
     "output_type": "stream",
     "text": [
      "CUSTOM\n",
      "6\n",
      "<class 'int'>\n",
      "=======================================================\n",
      "SCIPY\n",
      "6.0\n",
      "<class 'numpy.float64'>\n"
     ]
    }
   ],
   "source": [
    "# (3) 사분위범위\n",
    "def interquartile_range(x):\n",
    "    return quantile(x, 0.75) - quantile(x, 0.25)\n",
    "\n",
    "x = interquartile_range(num_friends)\n",
    "y = scipy.stats.iqr(num_friends)\n",
    "print('CUSTOM')\n",
    "print(x)\n",
    "print(type(x))\n",
    "println()\n",
    "print('SCIPY')\n",
    "print(y)\n",
    "print(type(y))"
   ]
  },
  {
   "cell_type": "code",
   "execution_count": 15,
   "metadata": {},
   "outputs": [],
   "source": [
    "# 5.2 상관관계 --- 두 종류의 데이터\n",
    "daily_minutes = [1,68.77,51.25,52.08,38.36,44.54,57.13,51.4,41.42,31.22,34.76,54.01,38.79,47.59,49.1,27.66,41.03,36.73,48.65,28.12,46.62,35.57,32.98,35,26.07,23.77,39.73,40.57,31.65,31.21,36.32,20.45,21.93,26.02,27.34,23.49,46.94,30.5,33.8,24.23,21.4,27.94,32.24,40.57,25.07,19.42,22.39,18.42,46.96,23.72,26.41,26.97,36.76,40.32,35.02,29.47,30.2,31,38.11,38.18,36.31,21.03,30.86,36.07,28.66,29.08,37.28,15.28,24.17,22.31,30.17,25.53,19.85,35.37,44.6,17.23,13.47,26.33,35.02,32.09,24.81,19.33,28.77,24.26,31.98,25.73,24.86,16.28,34.51,15.23,39.72,40.8,26.06,35.76,34.76,16.13,44.04,18.03,19.65,32.62,35.59,39.43,14.18,35.24,40.13,41.82,35.45,36.07,43.67,24.61,20.9,21.9,18.79,27.61,27.21,26.61,29.77,20.59,27.53,13.82,33.2,25,33.1,36.65,18.63,14.87,22.2,36.81,25.53,24.62,26.25,18.21,28.08,19.42,29.79,32.8,35.99,28.32,27.79,35.88,29.06,36.28,14.1,36.63,37.49,26.9,18.58,38.48,24.48,18.95,33.55,14.24,29.04,32.51,25.63,22.22,19,32.73,15.16,13.9,27.2,32.01,29.27,33,13.74,20.42,27.32,18.23,35.35,28.48,9.08,24.62,20.12,35.26,19.92,31.02,16.49,12.16,30.7,31.22,34.65,13.13,27.51,33.2,31.57,14.1,33.42,17.44,10.12,24.42,9.82,23.39,30.93,15.03,21.67,31.09,33.29,22.61,26.89,23.48,8.38,27.81,32.35,23.84]\n"
   ]
  },
  {
   "cell_type": "code",
   "execution_count": 19,
   "metadata": {},
   "outputs": [
    {
     "name": "stdout",
     "output_type": "stream",
     "text": [
      "CUSTOM\n",
      "22.425435139573064\n",
      "<class 'float'>\n",
      "=======================================================\n",
      "SCIPY\n",
      "22.425435139573054\n",
      "<class 'numpy.float64'>\n"
     ]
    }
   ],
   "source": [
    "def dot(x, y):\n",
    "    res = 0\n",
    "    for x_i, y_i in zip(x, y):\n",
    "        res += x_i * y_i\n",
    "    return res\n",
    "\n",
    "# 공분산\n",
    "def covariance(x, y):\n",
    "    n = len(x)\n",
    "    return dot(de_mean(x), de_mean(y)) / (n - 1)\n",
    "\n",
    "x = covariance(num_friends, daily_minutes)\n",
    "y = scipy.cov(num_friends, daily_minutes)[0,1]\n",
    "\n",
    "print('CUSTOM')\n",
    "print(x)\n",
    "print(type(x))\n",
    "println()\n",
    "print('SCIPY')\n",
    "print(y)\n",
    "print(type(y))"
   ]
  },
  {
   "cell_type": "code",
   "execution_count": 20,
   "metadata": {},
   "outputs": [
    {
     "name": "stdout",
     "output_type": "stream",
     "text": [
      "CUSTOM\n",
      "0.24736957366478218\n",
      "<class 'float'>\n",
      "=======================================================\n",
      "SCIPY\n",
      "0.247369573664782\n",
      "<class 'numpy.float64'>\n"
     ]
    }
   ],
   "source": [
    "# 상관계수\n",
    "def correlation(x, y):\n",
    "    stdev_x = standard_deviation(x)\n",
    "    stdev_y = standard_deviation(y)\n",
    "    if stdev_x > 0 and stdev_y > 0:\n",
    "        return covariance(x, y) / stdev_x / stdev_y\n",
    "    else:\n",
    "        return 0 # if no variation, correlation is zero\n",
    "\n",
    "x = correlation(num_friends, daily_minutes)\n",
    "y = scipy.corrcoef(num_friends, daily_minutes)[0,1]\n",
    "\n",
    "print('CUSTOM')\n",
    "print(x)\n",
    "print(type(x))\n",
    "println()\n",
    "print('SCIPY')\n",
    "print(y)\n",
    "print(type(y))"
   ]
  },
  {
   "cell_type": "code",
   "execution_count": 45,
   "metadata": {},
   "outputs": [],
   "source": [
    "# -*- coding: utf-8 -*-\n",
    "# title: vectors.py\n",
    "# course: Language and Computer\n",
    "# author(s): Suzi Park\n",
    "# date created: 2018-11-02\n",
    "# description: vector and matrix arithmetic (in NumPy)\n",
    "\n",
    "# Original code: ch04_linear_algebra.py (without NumPy)\n",
    "# https://github.com/insightbook/Data-Science-from-Scratch/blob/master/code/ch04_linear_algebra.py\n",
    "\n",
    "import numpy as np\n",
    "from numpy import linalg as LA\n",
    "\n",
    "height_weight_age = [70,   # inches\n",
    "                     170,  # pounds\n",
    "                     40]   # years\n",
    "\n",
    "grades = [95, # Test1\n",
    "          85, # Test2\n",
    "          75, # Test3\n",
    "          72] # Test4\n",
    "# \n",
    "# functions for working with vectors\n",
    "#\n",
    "\n",
    "# two 4-dimemsional vectors\n",
    "v = [1, 7, 8, 3]\n",
    "w = [3, 4, 3, 9]\n",
    "u = [0, 9, 2, 5]\n",
    "\n",
    "def print_results(x, y, z=None):\n",
    "    print('CUSTOM')\n",
    "    print(x)\n",
    "    print(type(x))\n",
    "    print('==========================================')\n",
    "    print('NUMPY')\n",
    "    print(y)\n",
    "    print(type(y))\n",
    "    if z:\n",
    "        print('==========================================')\n",
    "        print('SCIPY')\n",
    "        print(z)\n",
    "        print(type(z))"
   ]
  },
  {
   "cell_type": "code",
   "execution_count": 33,
   "metadata": {},
   "outputs": [
    {
     "name": "stdout",
     "output_type": "stream",
     "text": [
      "CUSTOM\n",
      "[4, 11, 11, 12]\n",
      "<class 'list'>\n",
      "==========================================\n",
      "NUMPY\n",
      "[ 4 11 11 12]\n",
      "<class 'numpy.ndarray'>\n"
     ]
    }
   ],
   "source": [
    "def vector_add(v, w):\n",
    "    \"\"\"adds two vectors componentwise\"\"\"\n",
    "    return [v_i + w_i for v_i, w_i in zip(v,w)]\n",
    "\n",
    "x = vector_add(v, w)\n",
    "y = np.add(v, w)\n",
    "print_results(x, y)"
   ]
  },
  {
   "cell_type": "code",
   "execution_count": 34,
   "metadata": {},
   "outputs": [
    {
     "name": "stdout",
     "output_type": "stream",
     "text": [
      "CUSTOM\n",
      "[-2, 3, 5, -6]\n",
      "<class 'list'>\n",
      "==========================================\n",
      "NUMPY\n",
      "[-2  3  5 -6]\n",
      "<class 'numpy.ndarray'>\n"
     ]
    }
   ],
   "source": [
    "def vector_subtract(v, w):\n",
    "    \"\"\"subtracts two vectors componentwise\"\"\"\n",
    "    return [v_i - w_i for v_i, w_i in zip(v,w)]\n",
    "\n",
    "x = vector_subtract(v, w)\n",
    "y = np.subtract(v, w)\n",
    "print_results(x, y)"
   ]
  },
  {
   "cell_type": "code",
   "execution_count": 35,
   "metadata": {},
   "outputs": [
    {
     "name": "stdout",
     "output_type": "stream",
     "text": [
      "CUSTOM\n",
      "[4, 20, 13, 17]\n",
      "<class 'list'>\n",
      "==========================================\n",
      "NUMPY\n",
      "[ 4 20 13 17]\n",
      "<class 'numpy.ndarray'>\n"
     ]
    }
   ],
   "source": [
    "def vector_sum(vectors):\n",
    "    result = vectors[0]\n",
    "    for vector in vectors[1:]:\n",
    "        result = vector_add(result, vector)\n",
    "    return result\n",
    "\n",
    "x = vector_sum([v, w, u])\n",
    "y = np.sum([v, w, u], axis=0)\n",
    "print_results(x, y)"
   ]
  },
  {
   "cell_type": "code",
   "execution_count": 36,
   "metadata": {},
   "outputs": [
    {
     "name": "stdout",
     "output_type": "stream",
     "text": [
      "CUSTOM\n",
      "[-2, -14, -16, -6]\n",
      "<class 'list'>\n",
      "==========================================\n",
      "NUMPY\n",
      "[ -2 -14 -16  -6]\n",
      "<class 'numpy.ndarray'>\n"
     ]
    }
   ],
   "source": [
    "def scalar_multiply(c, v):\n",
    "    return [c * v_i for v_i in v]\n",
    "\n",
    "x = scalar_multiply(-2, v)\n",
    "y = np.multiply(-2, v)\n",
    "\n",
    "print_results(x, y)"
   ]
  },
  {
   "cell_type": "code",
   "execution_count": 37,
   "metadata": {},
   "outputs": [
    {
     "name": "stdout",
     "output_type": "stream",
     "text": [
      "CUSTOM\n",
      "[1.3333333333333333, 6.666666666666666, 4.333333333333333, 5.666666666666666]\n",
      "<class 'list'>\n",
      "==========================================\n",
      "NUMPY\n",
      "[1.33333333 6.66666667 4.33333333 5.66666667]\n",
      "<class 'numpy.ndarray'>\n"
     ]
    }
   ],
   "source": [
    "def vector_mean(vectors):\n",
    "    \"\"\"compute the vector whose i-th element is the mean of the\n",
    "    i-th elements of the input vectors\"\"\"\n",
    "    n = len(vectors)\n",
    "    return scalar_multiply(1/n, vector_sum(vectors))\n",
    "\n",
    "x = vector_mean([v, w, u])\n",
    "y = np.mean([v, w, u], axis=0)\n",
    "print_results(x, y)\n"
   ]
  },
  {
   "cell_type": "code",
   "execution_count": 38,
   "metadata": {},
   "outputs": [
    {
     "name": "stdout",
     "output_type": "stream",
     "text": [
      "CUSTOM\n",
      "82\n",
      "<class 'int'>\n",
      "==========================================\n",
      "NUMPY\n",
      "82\n",
      "<class 'numpy.int64'>\n"
     ]
    }
   ],
   "source": [
    "def dot(v, w):\n",
    "    \"\"\"v_1 * w_1 + ... + v_n * w_n\"\"\"\n",
    "    return sum(v_i * w_i for v_i, w_i in zip(v, w))\n",
    "\n",
    "x = dot(v, w)\n",
    "y = np.dot(v, w)\n",
    "print_results(x, y)"
   ]
  },
  {
   "cell_type": "code",
   "execution_count": 39,
   "metadata": {},
   "outputs": [
    {
     "name": "stdout",
     "output_type": "stream",
     "text": [
      "CUSTOM\n",
      "123\n",
      "<class 'int'>\n",
      "==========================================\n",
      "NUMPY\n",
      "123\n",
      "<class 'numpy.int64'>\n"
     ]
    }
   ],
   "source": [
    "def sum_of_squares(v):\n",
    "    \"\"\"v_1 * v_1 + ... + v_n * v_n\"\"\"\n",
    "    return dot(v, v)\n",
    "\n",
    "x = sum_of_squares(v)\n",
    "y = np.sum(np.square(v))\n",
    "print_results(x, y)"
   ]
  },
  {
   "cell_type": "code",
   "execution_count": 41,
   "metadata": {},
   "outputs": [
    {
     "name": "stdout",
     "output_type": "stream",
     "text": [
      "CUSTOM\n",
      "11.090536506409418\n",
      "<class 'float'>\n",
      "==========================================\n",
      "NUMPY\n",
      "11.090536506409418\n",
      "<class 'numpy.float64'>\n"
     ]
    }
   ],
   "source": [
    "def magnitude(v):\n",
    "    return sum_of_squares(v) ** (1 / 2)\n",
    "\n",
    "x = magnitude(v)\n",
    "y = LA.norm(v, 2)\n",
    "print_results(x, y)"
   ]
  },
  {
   "cell_type": "code",
   "execution_count": 43,
   "metadata": {},
   "outputs": [
    {
     "name": "stdout",
     "output_type": "stream",
     "text": [
      "CUSTOM\n",
      "74\n",
      "<class 'int'>\n",
      "==========================================\n",
      "NUMPY\n",
      "74\n",
      "<class 'numpy.int64'>\n"
     ]
    }
   ],
   "source": [
    "def squared_distance(v, w):\n",
    "    return sum_of_squares(vector_subtract(v, w))\n",
    "\n",
    "x = squared_distance(v, w)\n",
    "y = np.sum(np.square(np.subtract(v, w)))\n",
    "print_results(x, y)"
   ]
  },
  {
   "cell_type": "code",
   "execution_count": 46,
   "metadata": {},
   "outputs": [
    {
     "name": "stdout",
     "output_type": "stream",
     "text": [
      "CUSTOM\n",
      "8.602325267042627\n",
      "<class 'float'>\n",
      "==========================================\n",
      "NUMPY\n",
      "8.602325267042627\n",
      "<class 'numpy.float64'>\n",
      "==========================================\n",
      "SCIPY\n",
      "8.602325267042627\n",
      "<class 'numpy.float64'>\n"
     ]
    }
   ],
   "source": [
    "def distance(v, w):\n",
    "   return squared_distance(v, w) ** (1/2)\n",
    "\n",
    "x = distance(v, w)\n",
    "y = LA.norm(np.subtract(v, w), 2)\n",
    "\n",
    "from scipy.spatial import distance\n",
    "z = distance.euclidean(v, w)\n",
    "print_results(x, y, z)"
   ]
  },
  {
   "cell_type": "code",
   "execution_count": null,
   "metadata": {},
   "outputs": [],
   "source": []
  }
 ],
 "metadata": {
  "kernelspec": {
   "display_name": "Python 3",
   "language": "python",
   "name": "python3"
  },
  "language_info": {
   "codemirror_mode": {
    "name": "ipython",
    "version": 3
   },
   "file_extension": ".py",
   "mimetype": "text/x-python",
   "name": "python",
   "nbconvert_exporter": "python",
   "pygments_lexer": "ipython3",
   "version": "3.6.7"
  }
 },
 "nbformat": 4,
 "nbformat_minor": 2
}
